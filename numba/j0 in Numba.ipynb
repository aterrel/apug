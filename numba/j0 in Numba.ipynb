{
 "metadata": {
  "name": "j0 in Numba"
 },
 "nbformat": 3,
 "nbformat_minor": 0,
 "worksheets": [
  {
   "cells": [
    {
     "cell_type": "markdown",
     "metadata": {},
     "source": [
      "I have always wanted to write a ufunc function in Python.  With Numba, you can --- and it will be fast."
     ]
    },
    {
     "cell_type": "code",
     "collapsed": false,
     "input": [
      "import numpy as np\n",
      "from numba import jit\n",
      "import math"
     ],
     "language": "python",
     "metadata": {},
     "outputs": [],
     "prompt_number": 1
    },
    {
     "cell_type": "markdown",
     "metadata": {},
     "source": [
      "Define some polynomial evaluation tools."
     ]
    },
    {
     "cell_type": "code",
     "collapsed": false,
     "input": [
      "@jit('f8(f8,f8[:])')\n",
      "def polevl(x, coef):\n",
      "    N = len(coef)\n",
      "    ans = coef[0]\n",
      "    i = 1\n",
      "    while i < N:\n",
      "        ans = ans * x + coef[i]\n",
      "        i += 1\n",
      "    return ans\n",
      "\n",
      "@jit('f8(f8,f8[:])')\n",
      "def p1evl(x, coef):\n",
      "    N = len(coef)\n",
      "    ans = x + coef[0]\n",
      "    i = 1\n",
      "    while i < N:\n",
      "        ans = ans * x + coef[i]\n",
      "        i += 1\n",
      "    return ans    \n"
     ],
     "language": "python",
     "metadata": {},
     "outputs": [],
     "prompt_number": 2
    },
    {
     "cell_type": "markdown",
     "metadata": {},
     "source": [
      "Define some constants!"
     ]
    },
    {
     "cell_type": "code",
     "collapsed": false,
     "input": [
      "PP = np.array([\n",
      "  7.96936729297347051624E-4,\n",
      "  8.28352392107440799803E-2,\n",
      "  1.23953371646414299388E0,\n",
      "  5.44725003058768775090E0,\n",
      "  8.74716500199817011941E0,\n",
      "  5.30324038235394892183E0,\n",
      "  9.99999999999999997821E-1], 'd')\n",
      "\n",
      "PQ = np.array([\n",
      "  9.24408810558863637013E-4,\n",
      "  8.56288474354474431428E-2,\n",
      "  1.25352743901058953537E0,\n",
      "  5.47097740330417105182E0,\n",
      "  8.76190883237069594232E0,\n",
      "  5.30605288235394617618E0,\n",
      "  1.00000000000000000218E0], 'd')\n",
      "  \n",
      "DR1 = 5.783185962946784521175995758455807035071\n",
      "DR2 = 30.47126234366208639907816317502275584842\n",
      "\n",
      "RP = np.array([\n",
      "-4.79443220978201773821E9,\n",
      " 1.95617491946556577543E12,\n",
      "-2.49248344360967716204E14,\n",
      " 9.70862251047306323952E15], 'd')\n",
      "\n",
      "RQ = np.array([\n",
      "    # 1.00000000000000000000E0,\n",
      " 4.99563147152651017219E2,\n",
      " 1.73785401676374683123E5,\n",
      " 4.84409658339962045305E7,\n",
      " 1.11855537045356834862E10,\n",
      " 2.11277520115489217587E12,\n",
      " 3.10518229857422583814E14,\n",
      " 3.18121955943204943306E16,\n",
      " 1.71086294081043136091E18], 'd')\n",
      "\n",
      "QP = np.array([\n",
      "-1.13663838898469149931E-2,\n",
      "-1.28252718670509318512E0,\n",
      "-1.95539544257735972385E1,\n",
      "-9.32060152123768231369E1,\n",
      "-1.77681167980488050595E2,\n",
      "-1.47077505154951170175E2,\n",
      "-5.14105326766599330220E1,\n",
      "-6.05014350600728481186E0], 'd')\n",
      "\n",
      "QQ = np.array([\n",
      "    # 1.00000000000000000000E0,\n",
      "  6.43178256118178023184E1,\n",
      "  8.56430025976980587198E2,\n",
      "  3.88240183605401609683E3,\n",
      "  7.24046774195652478189E3,\n",
      "  5.93072701187316984827E3,\n",
      "  2.06209331660327847417E3,\n",
      "  2.42005740240291393179E2], 'd')\n",
      "\n",
      "NPY_PI_4 = .78539816339744830962\n",
      "SQ2OPI  = .79788456080286535587989\n"
     ],
     "language": "python",
     "metadata": {},
     "outputs": [],
     "prompt_number": 3
    },
    {
     "cell_type": "markdown",
     "metadata": {},
     "source": [
      "Now for the function itself"
     ]
    },
    {
     "cell_type": "code",
     "collapsed": false,
     "input": [
      "@jit('f8(f8)')\n",
      "def j0(x):\n",
      "    if (x < 0):\n",
      "        x = -x\n",
      "\n",
      "    if (x <= 5.0):\n",
      "        z = x * x\n",
      "        if (x < 1.0e-5):\n",
      "            return (1.0 - z / 4.0)\n",
      "        p = (z-DR1) * (z-DR2)\n",
      "        p = p * polevl(z, RP) / polevl(z, RQ)\n",
      "        return p\n",
      "    \n",
      "    w = 5.0 / x\n",
      "    q = 25.0 / (x*x)\n",
      "    p = polevl(q, PP) / polevl(q, PQ)\n",
      "    q = polevl(q, QP) / p1evl(q, QQ)\n",
      "    xn = x - NPY_PI_4\n",
      "    p = p*math.cos(xn) - w * q * math.sin(xn)\n",
      "    return p * SQ2OPI / math.sqrt(x)\n"
     ],
     "language": "python",
     "metadata": {},
     "outputs": [],
     "prompt_number": 4
    },
    {
     "cell_type": "code",
     "collapsed": false,
     "input": [
      "from numba.vectorize import vectorize\n",
      "import scipy.special as ss\n",
      "\n",
      "vj0 = vectorize(['f8(f8)'])(j0)\n"
     ],
     "language": "python",
     "metadata": {},
     "outputs": [],
     "prompt_number": 5
    },
    {
     "cell_type": "code",
     "collapsed": false,
     "input": [
      "x = np.linspace(-10,10,1000)"
     ],
     "language": "python",
     "metadata": {},
     "outputs": [],
     "prompt_number": 12
    },
    {
     "cell_type": "code",
     "collapsed": false,
     "input": [
      "%timeit vj0(x)"
     ],
     "language": "python",
     "metadata": {},
     "outputs": [
      {
       "output_type": "stream",
       "stream": "stdout",
       "text": [
        "10000 loops, best of 3: 80.2 us per loop\n"
       ]
      }
     ],
     "prompt_number": 13
    },
    {
     "cell_type": "code",
     "collapsed": false,
     "input": [
      "%timeit ss.j0(x)"
     ],
     "language": "python",
     "metadata": {},
     "outputs": [
      {
       "output_type": "stream",
       "stream": "stdout",
       "text": [
        "10000 loops, best of 3: 82.1 us per loop\n"
       ]
      }
     ],
     "prompt_number": 14
    },
    {
     "cell_type": "code",
     "collapsed": false,
     "input": [
      "%pylab inline"
     ],
     "language": "python",
     "metadata": {},
     "outputs": [
      {
       "output_type": "stream",
       "stream": "stdout",
       "text": [
        "\n",
        "Welcome to pylab, a matplotlib-based Python environment [backend: module://IPython.zmq.pylab.backend_inline].\n",
        "For more information, type 'help(pylab)'.\n"
       ]
      }
     ],
     "prompt_number": 15
    },
    {
     "cell_type": "code",
     "collapsed": false,
     "input": [
      "plot(x, vj0(x), x, ss.j0(x))"
     ],
     "language": "python",
     "metadata": {},
     "outputs": [
      {
       "output_type": "pyout",
       "prompt_number": 16,
       "text": [
        "[<matplotlib.lines.Line2D at 0x10907ced0>,\n",
        " <matplotlib.lines.Line2D at 0x10907f150>]"
       ]
      },
      {
       "output_type": "display_data",
       "png": "[encoded data removed]"
      }
     ],
     "prompt_number": 16
    },
    {
     "cell_type": "markdown",
     "metadata": {},
     "source": [
      "This was run on a Macbook Air.   Running `sysctl -n machdep.cpu.brand_string` resulted in:\n",
      "\n",
      "   Intel(R) Core(TM) i7-2677M CPU @ 1.80GHz"
     ]
    }
   ],
   "metadata": {}
  }
 ]
}